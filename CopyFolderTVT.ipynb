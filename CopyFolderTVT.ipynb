{
  "nbformat": 4,
  "nbformat_minor": 0,
  "metadata": {
    "colab": {
      "provenance": [],
      "authorship_tag": "ABX9TyMTU4KkBfmWGdsiT8eTBVVl",
      "include_colab_link": true
    },
    "kernelspec": {
      "name": "python3",
      "display_name": "Python 3"
    },
    "language_info": {
      "name": "python"
    }
  },
  "cells": [
    {
      "cell_type": "markdown",
      "metadata": {
        "id": "view-in-github",
        "colab_type": "text"
      },
      "source": [
        "<a href=\"https://colab.research.google.com/github/Auvarmf/PKCV/blob/main/CopyFolderTVT.ipynb\" target=\"_parent\"><img src=\"https://colab.research.google.com/assets/colab-badge.svg\" alt=\"Open In Colab\"/></a>"
      ]
    },
    {
      "cell_type": "code",
      "execution_count": 22,
      "metadata": {
        "id": "l8LZDAAT-nti"
      },
      "outputs": [],
      "source": [
        "from google.colab import drive\n",
        "import os\n",
        "import shutil\n",
        "import random"
      ]
    },
    {
      "cell_type": "code",
      "source": [
        "# Mount Google Drive\n",
        "drive.mount('/content/drive')"
      ],
      "metadata": {
        "colab": {
          "base_uri": "https://localhost:8080/"
        },
        "id": "4occ8rTb-xfZ",
        "outputId": "90cb0b06-2715-42ed-898b-359a3794b09d"
      },
      "execution_count": null,
      "outputs": [
        {
          "output_type": "stream",
          "name": "stdout",
          "text": [
            "Drive already mounted at /content/drive; to attempt to forcibly remount, call drive.mount(\"/content/drive\", force_remount=True).\n"
          ]
        }
      ]
    },
    {
      "cell_type": "code",
      "source": [
        "def copy_folder(source, destination):\n",
        "    try:\n",
        "        # Cek apakah folder tujuan sudah ada\n",
        "        if os.path.exists(destination):\n",
        "            print(f\"Folder tujuan '{destination}' sudah ada.\")\n",
        "        else:\n",
        "            shutil.copytree(source, destination)\n",
        "            print(f\"Folder '{source}' berhasil disalin ke '{destination}'\")\n",
        "    except Exception as e:\n",
        "        print(f\"Error: {e}\")\n",
        "\n",
        "# Path sumber dan tujuan\n",
        "source_folder  = '/content/drive/MyDrive/PROSUSCV/dataset_cnn'\n",
        "destination_folder = '/content/drive/MyDrive/PROSUSCV/dataset_butterfly'"
      ],
      "metadata": {
        "id": "xrwc7I2D-0i6"
      },
      "execution_count": null,
      "outputs": []
    },
    {
      "cell_type": "code",
      "source": [
        "# Salin folder\n",
        "copy_folder(source_folder, destination_folder)"
      ],
      "metadata": {
        "colab": {
          "base_uri": "https://localhost:8080/"
        },
        "id": "f2K2iYsO_XQb",
        "outputId": "477f8a0f-33c7-4068-b1e5-675d7bb5f67d"
      },
      "execution_count": null,
      "outputs": [
        {
          "output_type": "stream",
          "name": "stdout",
          "text": [
            "Folder '/content/drive/MyDrive/PROSUSCV/dataset_cnn' berhasil disalin ke '/content/drive/MyDrive/PROSUSCV/dataset_butterfly'\n"
          ]
        }
      ]
    },
    {
      "cell_type": "code",
      "source": [
        "def split_dataset(source_folder, destination_folder, train_ratio=0.7, test_ratio=0.2, val_ratio=0.1):\n",
        "    # Cek apakah folder tujuan sudah ada\n",
        "    if os.path.exists(destination_folder):\n",
        "        print(f\"Folder tujuan '{destination_folder}' sudah ada.\")\n",
        "        return\n",
        "\n",
        "    # Buat folder train, test, dan validation\n",
        "    os.makedirs(os.path.join(destination_folder, 'train'))\n",
        "    os.makedirs(os.path.join(destination_folder, 'test'))\n",
        "    os.makedirs(os.path.join(destination_folder, 'validation'))\n",
        "\n",
        "    # List nama folder di dalam source folder\n",
        "    folders = os.listdir(source_folder)\n",
        "\n",
        "    for folder in folders:\n",
        "        # Path ke folder di dalam source folder\n",
        "        folder_path = os.path.join(source_folder, folder)\n",
        "\n",
        "        # Ambil daftar file di dalam folder\n",
        "        files = os.listdir(folder_path)\n",
        "\n",
        "        # Hitung jumlah file untuk masing-masing subset\n",
        "        num_files = len(files)\n",
        "        num_train = int(num_files * train_ratio)\n",
        "        num_test = int(num_files * test_ratio)\n",
        "        num_val = int(num_files * val_ratio)\n",
        "\n",
        "        # Acak urutan file\n",
        "        random.shuffle(files)\n",
        "\n",
        "        # Bagi file menjadi subset train, test, dan validation\n",
        "        train_files = files[:num_train]\n",
        "        test_files = files[num_train:num_train + num_test]\n",
        "        val_files = files[num_train + num_test:]\n",
        "\n",
        "        # Salin file ke dalam subset train\n",
        "        for file in train_files:\n",
        "            source_file = os.path.join(folder_path, file)\n",
        "            dest_file = os.path.join(destination_folder, 'train', folder)\n",
        "            os.makedirs(dest_file, exist_ok=True)\n",
        "            dest_file = os.path.join(dest_file, file)\n",
        "            shutil.copy(source_file, dest_file)\n",
        "\n",
        "        # Salin file ke dalam subset test\n",
        "        for file in test_files:\n",
        "            source_file = os.path.join(folder_path, file)\n",
        "            dest_file = os.path.join(destination_folder, 'test', folder)\n",
        "            os.makedirs(dest_file, exist_ok=True)\n",
        "            dest_file = os.path.join(dest_file, file)\n",
        "            shutil.copy(source_file, dest_file)\n",
        "\n",
        "        # Salin file ke dalam subset validation\n",
        "        for file in val_files:\n",
        "            source_file = os.path.join(folder_path, file)\n",
        "            dest_file = os.path.join(destination_folder, 'validation', folder)\n",
        "            os.makedirs(dest_file, exist_ok=True)\n",
        "            dest_file = os.path.join(dest_file, file)\n",
        "            shutil.copy(source_file, dest_file)\n",
        "\n",
        "    print(\"Pembagian dataset berhasil.\")"
      ],
      "metadata": {
        "id": "sLGMJItpEX8d"
      },
      "execution_count": 26,
      "outputs": []
    },
    {
      "cell_type": "code",
      "source": [
        "destination_folder = '/content/drive/MyDrive/PROSUSCV/dataset_butterfly'"
      ],
      "metadata": {
        "id": "dk54C-nxGCa3"
      },
      "execution_count": 27,
      "outputs": []
    },
    {
      "cell_type": "code",
      "source": [
        "# Bagi dataset menjadi subset train, test, dan validation\n",
        "split_dataset(source_folder, destination_folder, train_ratio=0.7, test_ratio=0.2, val_ratio=0.1)"
      ],
      "metadata": {
        "colab": {
          "base_uri": "https://localhost:8080/"
        },
        "id": "ysIm-lYhFxri",
        "outputId": "cd388fbc-7a2d-41d2-a373-d567b960ebd9"
      },
      "execution_count": 28,
      "outputs": [
        {
          "output_type": "stream",
          "name": "stdout",
          "text": [
            "Pembagian dataset berhasil.\n"
          ]
        }
      ]
    }
  ]
}