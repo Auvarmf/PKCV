{
  "nbformat": 4,
  "nbformat_minor": 0,
  "metadata": {
    "colab": {
      "provenance": [],
      "authorship_tag": "ABX9TyP4UOAXEuFrrEmu0bzaAPUv",
      "include_colab_link": true
    },
    "kernelspec": {
      "name": "python3",
      "display_name": "Python 3"
    },
    "language_info": {
      "name": "python"
    }
  },
  "cells": [
    {
      "cell_type": "markdown",
      "metadata": {
        "id": "view-in-github",
        "colab_type": "text"
      },
      "source": [
        "<a href=\"https://colab.research.google.com/github/Auvarmf/PKCV/blob/main/Model3CV3_Dataset_Augmented_Process.ipynb\" target=\"_parent\"><img src=\"https://colab.research.google.com/assets/colab-badge.svg\" alt=\"Open In Colab\"/></a>"
      ]
    },
    {
      "cell_type": "code",
      "execution_count": 15,
      "metadata": {
        "id": "yys37L8-2R54"
      },
      "outputs": [],
      "source": [
        "import os\n",
        "import cv2\n",
        "import numpy as np\n",
        "import shutil\n",
        "from tensorflow.keras.preprocessing.image import ImageDataGenerator\n",
        "from tqdm import tqdm\n",
        "from google.colab import drive"
      ]
    },
    {
      "cell_type": "code",
      "source": [
        "# Mount Google Drive to access files and folders\n",
        "drive.mount('/content/PKCV')"
      ],
      "metadata": {
        "colab": {
          "base_uri": "https://localhost:8080/"
        },
        "id": "pe3l40J92umc",
        "outputId": "b7cb16ea-5370-4016-85e1-38620b979ed5"
      },
      "execution_count": 16,
      "outputs": [
        {
          "output_type": "stream",
          "name": "stdout",
          "text": [
            "Drive already mounted at /content/PKCV; to attempt to forcibly remount, call drive.mount(\"/content/PKCV\", force_remount=True).\n"
          ]
        }
      ]
    },
    {
      "cell_type": "code",
      "source": [
        "# Define the base directory where all images are stored\n",
        "BASE_DIR = '/content/PKCV/MyDrive/PROSUSCV/dataset_butterfly'\n",
        "AUG_DIR = '/content/PKCV/MyDrive/PROSUSCV/dataset_butterfly_augmented'\n",
        "\n",
        "train_dir = os.path.join(BASE_DIR, 'train')\n",
        "val_dir = os.path.join(BASE_DIR, 'validation')\n",
        "test_dir = os.path.join(BASE_DIR, 'test')\n",
        "\n",
        "aug_train_dir = os.path.join(AUG_DIR, 'train')\n",
        "aug_val_dir = os.path.join(AUG_DIR, 'validation')\n",
        "aug_test_dir = os.path.join(AUG_DIR, 'test')"
      ],
      "metadata": {
        "id": "CBYGHIjQ2lzQ"
      },
      "execution_count": 17,
      "outputs": []
    },
    {
      "cell_type": "code",
      "source": [
        "IMG_SIZE = (299, 299)\n",
        "\n",
        "# Create directories if not exist\n",
        "os.makedirs(aug_train_dir, exist_ok=True)\n",
        "os.makedirs(aug_val_dir, exist_ok=True)\n",
        "os.makedirs(aug_test_dir, exist_ok=True)"
      ],
      "metadata": {
        "id": "YTDtXLc83LEE"
      },
      "execution_count": 18,
      "outputs": []
    },
    {
      "cell_type": "code",
      "source": [
        "# Define data augmentation generator\n",
        "data_gen = ImageDataGenerator(\n",
        "    rotation_range=20,\n",
        "    width_shift_range=0.2,\n",
        "    height_shift_range=0.2,\n",
        "    shear_range=0.2,\n",
        "    zoom_range=0.2,\n",
        "    horizontal_flip=True,\n",
        "    fill_mode='nearest'\n",
        ")"
      ],
      "metadata": {
        "id": "JJUzRAWf3OcS"
      },
      "execution_count": 19,
      "outputs": []
    },
    {
      "cell_type": "code",
      "source": [
        "def copy_and_augment_data(src_dir, dest_dir, img_size, data_gen, save_prefix='aug', num_augmented=5):\n",
        "    class_names = os.listdir(src_dir)\n",
        "\n",
        "    for class_name in class_names:\n",
        "        class_src_dir = os.path.join(src_dir, class_name)\n",
        "        class_dest_dir = os.path.join(dest_dir, class_name)\n",
        "        os.makedirs(class_dest_dir, exist_ok=True)\n",
        "\n",
        "        for file in tqdm(os.listdir(class_src_dir), desc=f\"Processing {class_name}\"):\n",
        "            img_path = os.path.join(class_src_dir, file)\n",
        "            if file.lower().endswith(('.png', '.jpg', '.jpeg', '.gif', '.bmp', '.webp')):\n",
        "                image = cv2.imread(img_path)\n",
        "                if image is not None:\n",
        "                    # Copy original file to destination\n",
        "                    shutil.copy(img_path, class_dest_dir)\n",
        "\n",
        "                    # Resize for augmentation\n",
        "                    image = cv2.resize(image, img_size)\n",
        "                    image = np.expand_dims(image, axis=0)\n",
        "                    image_gen = data_gen.flow(image, batch_size=1, save_to_dir=class_dest_dir,\n",
        "                                              save_prefix=save_prefix, save_format='jpg')\n",
        "\n",
        "                    # Generate and save augmented images\n",
        "                    for _ in range(num_augmented):\n",
        "                        next(image_gen)"
      ],
      "metadata": {
        "id": "CzVUIb7-3VtQ"
      },
      "execution_count": 20,
      "outputs": []
    },
    {
      "cell_type": "code",
      "source": [
        "# Copy and augment data for train, validation, and test directories\n",
        "copy_and_augment_data(train_dir, aug_train_dir, IMG_SIZE, data_gen)\n",
        "copy_and_augment_data(val_dir, aug_val_dir, IMG_SIZE, data_gen)\n",
        "copy_and_augment_data(test_dir, aug_test_dir, IMG_SIZE, data_gen)\n",
        "\n",
        "print(\"Data copy and augmentation completed.\")"
      ],
      "metadata": {
        "colab": {
          "base_uri": "https://localhost:8080/"
        },
        "id": "gidF49lY3Yjt",
        "outputId": "6174e466-adb8-4835-a27f-077ca0d37ece"
      },
      "execution_count": 21,
      "outputs": [
        {
          "output_type": "stream",
          "name": "stderr",
          "text": [
            "Processing kupu_raja_limau: 100%|██████████| 70/70 [00:54<00:00,  1.28it/s]\n",
            "Processing kupu_batik_cap: 100%|██████████| 70/70 [00:46<00:00,  1.50it/s]\n",
            "Processing kupu_hijau_biru: 100%|██████████| 70/70 [00:45<00:00,  1.54it/s]\n",
            "Processing kupu_jarak: 100%|██████████| 70/70 [00:17<00:00,  3.91it/s]\n",
            "Processing kupu_harimau_kuning_hijau: 100%|██████████| 70/70 [00:19<00:00,  3.56it/s]\n",
            "Processing kupu_raja_helena: 100%|██████████| 70/70 [01:43<00:00,  1.47s/it]\n",
            "Processing kupu_jojo: 100%|██████████| 70/70 [01:53<00:00,  1.63s/it]\n",
            "Processing kupu_pantat_merah: 100%|██████████| 70/70 [01:28<00:00,  1.27s/it]\n",
            "Processing kupu_raja_limau: 100%|██████████| 10/10 [00:12<00:00,  1.27s/it]\n",
            "Processing kupu_batik_cap: 100%|██████████| 10/10 [00:13<00:00,  1.40s/it]\n",
            "Processing kupu_hijau_biru: 100%|██████████| 10/10 [00:12<00:00,  1.22s/it]\n",
            "Processing kupu_jarak: 100%|██████████| 10/10 [00:05<00:00,  1.80it/s]\n",
            "Processing kupu_harimau_kuning_hijau: 100%|██████████| 10/10 [00:06<00:00,  1.58it/s]\n",
            "Processing kupu_raja_helena: 100%|██████████| 10/10 [00:14<00:00,  1.44s/it]\n",
            "Processing kupu_jojo: 100%|██████████| 10/10 [00:15<00:00,  1.60s/it]\n",
            "Processing kupu_pantat_merah: 100%|██████████| 10/10 [00:13<00:00,  1.36s/it]\n",
            "Processing kupu_raja_limau: 100%|██████████| 20/20 [00:25<00:00,  1.26s/it]\n",
            "Processing kupu_batik_cap: 100%|██████████| 20/20 [00:26<00:00,  1.30s/it]\n",
            "Processing kupu_hijau_biru: 100%|██████████| 20/20 [00:26<00:00,  1.31s/it]\n",
            "Processing kupu_jarak: 100%|██████████| 20/20 [00:10<00:00,  1.88it/s]\n",
            "Processing kupu_harimau_kuning_hijau: 100%|██████████| 20/20 [00:12<00:00,  1.56it/s]\n",
            "Processing kupu_raja_helena: 100%|██████████| 20/20 [00:29<00:00,  1.49s/it]\n",
            "Processing kupu_jojo: 100%|██████████| 20/20 [00:30<00:00,  1.53s/it]\n",
            "Processing kupu_pantat_merah: 100%|██████████| 20/20 [00:23<00:00,  1.19s/it]"
          ]
        },
        {
          "output_type": "stream",
          "name": "stdout",
          "text": [
            "Data copy and augmentation completed.\n"
          ]
        },
        {
          "output_type": "stream",
          "name": "stderr",
          "text": [
            "\n"
          ]
        }
      ]
    }
  ]
}