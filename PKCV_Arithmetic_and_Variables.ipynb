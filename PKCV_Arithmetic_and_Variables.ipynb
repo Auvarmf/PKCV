{
  "nbformat": 4,
  "nbformat_minor": 0,
  "metadata": {
    "colab": {
      "provenance": [],
      "authorship_tag": "ABX9TyNXfv0XA8e83mXHJVXr4YqO",
      "include_colab_link": true
    },
    "kernelspec": {
      "name": "python3",
      "display_name": "Python 3"
    },
    "language_info": {
      "name": "python"
    }
  },
  "cells": [
    {
      "cell_type": "markdown",
      "metadata": {
        "id": "view-in-github",
        "colab_type": "text"
      },
      "source": [
        "<a href=\"https://colab.research.google.com/github/Auvarmf/PKCV/blob/main/PKCV_Arithmetic_and_Variables.ipynb\" target=\"_parent\"><img src=\"https://colab.research.google.com/assets/colab-badge.svg\" alt=\"Open In Colab\"/></a>"
      ]
    },
    {
      "cell_type": "code",
      "execution_count": 1,
      "metadata": {
        "id": "El5q25y6Fp_Y",
        "colab": {
          "base_uri": "https://localhost:8080/"
        },
        "outputId": "a3c69647-392b-413e-f2cb-bd67da62c834"
      },
      "outputs": [
        {
          "output_type": "stream",
          "name": "stdout",
          "text": [
            "Hello Wolrd\n"
          ]
        }
      ],
      "source": [
        "print(\"Hello Wolrd\")"
      ]
    },
    {
      "cell_type": "code",
      "source": [
        "print(1+2)"
      ],
      "metadata": {
        "colab": {
          "base_uri": "https://localhost:8080/"
        },
        "id": "-2YbVTmOM4j8",
        "outputId": "62dd42d1-9221-409d-fd36-19dcd6385b7a"
      },
      "execution_count": 2,
      "outputs": [
        {
          "output_type": "stream",
          "name": "stdout",
          "text": [
            "3\n"
          ]
        }
      ]
    },
    {
      "cell_type": "code",
      "source": [
        "print(9-5)"
      ],
      "metadata": {
        "colab": {
          "base_uri": "https://localhost:8080/"
        },
        "id": "CkLgyXWyNGIc",
        "outputId": "12890ae6-22a0-40c6-b6ec-cd2bbdb4ba72"
      },
      "execution_count": 4,
      "outputs": [
        {
          "output_type": "stream",
          "name": "stdout",
          "text": [
            "4\n"
          ]
        }
      ]
    },
    {
      "cell_type": "code",
      "source": [
        "print(((1 + 3) * (9 - 2) / 2) ** 2)"
      ],
      "metadata": {
        "colab": {
          "base_uri": "https://localhost:8080/"
        },
        "id": "fwm7hHa5NKI6",
        "outputId": "5f59edbb-7e66-4813-9cd9-350d3966c4b5"
      },
      "execution_count": 5,
      "outputs": [
        {
          "output_type": "stream",
          "name": "stdout",
          "text": [
            "196.0\n"
          ]
        }
      ]
    },
    {
      "cell_type": "code",
      "source": [
        "# Multiply 3 by 2\n",
        "print(3 * 2)"
      ],
      "metadata": {
        "colab": {
          "base_uri": "https://localhost:8080/"
        },
        "id": "IffTdxxgNNXb",
        "outputId": "84117430-f58e-4430-a603-fe38fd7cf847"
      },
      "execution_count": 6,
      "outputs": [
        {
          "output_type": "stream",
          "name": "stdout",
          "text": [
            "6\n"
          ]
        }
      ]
    },
    {
      "cell_type": "code",
      "source": [
        "Multiply 3 by 2"
      ],
      "metadata": {
        "colab": {
          "base_uri": "https://localhost:8080/",
          "height": 108
        },
        "id": "cTziCG6QODzd",
        "outputId": "faaf503c-f08e-44ac-ed7d-780bd9aafedf"
      },
      "execution_count": 7,
      "outputs": [
        {
          "output_type": "error",
          "ename": "SyntaxError",
          "evalue": "invalid syntax (<ipython-input-7-a91ee14dd7d4>, line 1)",
          "traceback": [
            "\u001b[0;36m  File \u001b[0;32m\"<ipython-input-7-a91ee14dd7d4>\"\u001b[0;36m, line \u001b[0;32m1\u001b[0m\n\u001b[0;31m    Multiply 3 by 2\u001b[0m\n\u001b[0m             ^\u001b[0m\n\u001b[0;31mSyntaxError\u001b[0m\u001b[0;31m:\u001b[0m invalid syntax\n"
          ]
        }
      ]
    },
    {
      "cell_type": "code",
      "source": [
        "# Create a variable called test_var and give it a value of 4+5\n",
        "test_var = 4 + 5\n",
        "\n",
        "# Print the value of test_var\n",
        "print(test_var)"
      ],
      "metadata": {
        "colab": {
          "base_uri": "https://localhost:8080/"
        },
        "id": "K1-_GT88OgSp",
        "outputId": "00d2816d-3f27-4b08-8dda-3893cc8fce3e"
      },
      "execution_count": 8,
      "outputs": [
        {
          "output_type": "stream",
          "name": "stdout",
          "text": [
            "9\n"
          ]
        }
      ]
    },
    {
      "cell_type": "code",
      "source": [
        "# Set the value of a new variable to 3\n",
        "my_var = 3\n",
        "\n",
        "# Print the value assigned to my_var\n",
        "print(my_var)\n",
        "\n",
        "# Change the value of the variable to 100\n",
        "my_var = 100\n",
        "\n",
        "# Print the new value assigned to my_var\n",
        "print(my_var)"
      ],
      "metadata": {
        "colab": {
          "base_uri": "https://localhost:8080/"
        },
        "id": "dnVcpYbvOkgr",
        "outputId": "e7c01728-17e2-428e-bba9-be921865c9de"
      },
      "execution_count": 9,
      "outputs": [
        {
          "output_type": "stream",
          "name": "stdout",
          "text": [
            "3\n",
            "100\n"
          ]
        }
      ]
    },
    {
      "cell_type": "code",
      "source": [
        "print(my_var)\n",
        "print(test_var)"
      ],
      "metadata": {
        "colab": {
          "base_uri": "https://localhost:8080/"
        },
        "id": "W7oGpYrTOnq6",
        "outputId": "79cf24ee-636a-4d59-fd3b-f61eae86f39d"
      },
      "execution_count": 10,
      "outputs": [
        {
          "output_type": "stream",
          "name": "stdout",
          "text": [
            "100\n",
            "9\n"
          ]
        }
      ]
    },
    {
      "cell_type": "code",
      "source": [
        "# Increase the value by 3\n",
        "my_var = my_var + 3\n",
        "\n",
        "# Print the value assigned to my_var\n",
        "print(my_var)"
      ],
      "metadata": {
        "colab": {
          "base_uri": "https://localhost:8080/"
        },
        "id": "OBr30YwDOqGw",
        "outputId": "d7843334-d2f3-4b0e-9ef3-6774c7715b92"
      },
      "execution_count": 11,
      "outputs": [
        {
          "output_type": "stream",
          "name": "stdout",
          "text": [
            "103\n"
          ]
        }
      ]
    },
    {
      "cell_type": "code",
      "source": [
        "# Create variables\n",
        "num_years = 4\n",
        "days_per_year = 365\n",
        "hours_per_day = 24\n",
        "mins_per_hour = 60\n",
        "secs_per_min = 60\n",
        "\n",
        "# Calculate number of seconds in four years\n",
        "total_secs = secs_per_min * mins_per_hour * hours_per_day * days_per_year * num_years\n",
        "print(total_secs)"
      ],
      "metadata": {
        "colab": {
          "base_uri": "https://localhost:8080/"
        },
        "id": "73vnrQuPO6zf",
        "outputId": "ac792d79-086d-404a-a837-be15d1e31e82"
      },
      "execution_count": 12,
      "outputs": [
        {
          "output_type": "stream",
          "name": "stdout",
          "text": [
            "126144000\n"
          ]
        }
      ]
    },
    {
      "cell_type": "code",
      "source": [
        "# Update to include leap years\n",
        "days_per_year = 365.25\n",
        "\n",
        "# Calculate number of seconds in four years\n",
        "total_secs = secs_per_min * mins_per_hour * hours_per_day * days_per_year * num_years\n",
        "print(total_secs)"
      ],
      "metadata": {
        "colab": {
          "base_uri": "https://localhost:8080/"
        },
        "id": "MxYBHUgpO90u",
        "outputId": "00884ff0-3b66-4f07-af16-6a7676f58d22"
      },
      "execution_count": 13,
      "outputs": [
        {
          "output_type": "stream",
          "name": "stdout",
          "text": [
            "126230400.0\n"
          ]
        }
      ]
    },
    {
      "cell_type": "code",
      "source": [
        "print(hours_per_dy)"
      ],
      "metadata": {
        "colab": {
          "base_uri": "https://localhost:8080/",
          "height": 144
        },
        "id": "12ivUyRIO_9M",
        "outputId": "cd767cc7-14cb-4691-e496-856131f89b36"
      },
      "execution_count": 14,
      "outputs": [
        {
          "output_type": "error",
          "ename": "NameError",
          "evalue": "name 'hours_per_dy' is not defined",
          "traceback": [
            "\u001b[0;31m---------------------------------------------------------------------------\u001b[0m",
            "\u001b[0;31mNameError\u001b[0m                                 Traceback (most recent call last)",
            "\u001b[0;32m<ipython-input-14-9c43394606fc>\u001b[0m in \u001b[0;36m<cell line: 1>\u001b[0;34m()\u001b[0m\n\u001b[0;32m----> 1\u001b[0;31m \u001b[0mprint\u001b[0m\u001b[0;34m(\u001b[0m\u001b[0mhours_per_dy\u001b[0m\u001b[0;34m)\u001b[0m\u001b[0;34m\u001b[0m\u001b[0;34m\u001b[0m\u001b[0m\n\u001b[0m",
            "\u001b[0;31mNameError\u001b[0m: name 'hours_per_dy' is not defined"
          ]
        }
      ]
    },
    {
      "cell_type": "code",
      "source": [
        "print(hours_per_day)"
      ],
      "metadata": {
        "colab": {
          "base_uri": "https://localhost:8080/"
        },
        "id": "_8_9D2XbPD3s",
        "outputId": "4b076865-ebd4-41d7-c7c8-232f00430278"
      },
      "execution_count": 15,
      "outputs": [
        {
          "output_type": "stream",
          "name": "stdout",
          "text": [
            "24\n"
          ]
        }
      ]
    }
  ]
}