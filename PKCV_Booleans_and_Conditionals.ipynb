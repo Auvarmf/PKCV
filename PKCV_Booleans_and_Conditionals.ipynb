{
  "nbformat": 4,
  "nbformat_minor": 0,
  "metadata": {
    "colab": {
      "provenance": [],
      "authorship_tag": "ABX9TyPgFnwJ69qgui3k8uogPGgM",
      "include_colab_link": true
    },
    "kernelspec": {
      "name": "python3",
      "display_name": "Python 3"
    },
    "language_info": {
      "name": "python"
    }
  },
  "cells": [
    {
      "cell_type": "markdown",
      "metadata": {
        "id": "view-in-github",
        "colab_type": "text"
      },
      "source": [
        "<a href=\"https://colab.research.google.com/github/Auvarmf/PKCV/blob/main/PKCV_Booleans_and_Conditionals.ipynb\" target=\"_parent\"><img src=\"https://colab.research.google.com/assets/colab-badge.svg\" alt=\"Open In Colab\"/></a>"
      ]
    },
    {
      "cell_type": "code",
      "execution_count": 1,
      "metadata": {
        "colab": {
          "base_uri": "https://localhost:8080/"
        },
        "id": "_Y1othmi89jP",
        "outputId": "5def1a60-1383-46a3-91e9-143aae1c0a62"
      },
      "outputs": [
        {
          "output_type": "stream",
          "name": "stdout",
          "text": [
            "True\n",
            "<class 'bool'>\n"
          ]
        }
      ],
      "source": [
        "x = True\n",
        "print(x)\n",
        "print(type(x))"
      ]
    },
    {
      "cell_type": "code",
      "source": [
        "def can_run_for_president(age):\n",
        "    \"\"\"Can someone of the given age run for president in the US?\"\"\"\n",
        "    # The US Constitution says you must be at least 35 years old\n",
        "    return age >= 35\n",
        "\n",
        "print(\"Can a 19-year-old run for president?\", can_run_for_president(19))\n",
        "print(\"Can a 45-year-old run for president?\", can_run_for_president(45))"
      ],
      "metadata": {
        "colab": {
          "base_uri": "https://localhost:8080/"
        },
        "id": "7Y9Px2xG9F_2",
        "outputId": "ba784c2b-2a58-4772-a30d-eb1e288c0c2f"
      },
      "execution_count": 2,
      "outputs": [
        {
          "output_type": "stream",
          "name": "stdout",
          "text": [
            "Can a 19-year-old run for president? False\n",
            "Can a 45-year-old run for president? True\n"
          ]
        }
      ]
    },
    {
      "cell_type": "code",
      "source": [
        "3.0 == 3"
      ],
      "metadata": {
        "colab": {
          "base_uri": "https://localhost:8080/"
        },
        "id": "TMkzZAdn9KL0",
        "outputId": "98604d3e-d9eb-4685-84dd-38d71e28c131"
      },
      "execution_count": 3,
      "outputs": [
        {
          "output_type": "execute_result",
          "data": {
            "text/plain": [
              "True"
            ]
          },
          "metadata": {},
          "execution_count": 3
        }
      ]
    },
    {
      "cell_type": "code",
      "source": [
        "'3' == 3"
      ],
      "metadata": {
        "colab": {
          "base_uri": "https://localhost:8080/"
        },
        "id": "nqWVrQ3m9Mrd",
        "outputId": "e0c636a1-7bb3-4a48-ae80-67c820d7a5a9"
      },
      "execution_count": 4,
      "outputs": [
        {
          "output_type": "execute_result",
          "data": {
            "text/plain": [
              "False"
            ]
          },
          "metadata": {},
          "execution_count": 4
        }
      ]
    },
    {
      "cell_type": "code",
      "source": [
        "def is_odd(n):\n",
        "    return (n % 2) == 1\n",
        "\n",
        "print(\"Is 100 odd?\", is_odd(100))\n",
        "print(\"Is -1 odd?\", is_odd(-1))"
      ],
      "metadata": {
        "colab": {
          "base_uri": "https://localhost:8080/"
        },
        "id": "02RoezUf9O4q",
        "outputId": "a7753d1d-5659-41f1-c9b8-44495a29dabe"
      },
      "execution_count": 5,
      "outputs": [
        {
          "output_type": "stream",
          "name": "stdout",
          "text": [
            "Is 100 odd? False\n",
            "Is -1 odd? True\n"
          ]
        }
      ]
    },
    {
      "cell_type": "code",
      "source": [
        "def can_run_for_president(age, is_natural_born_citizen):\n",
        "    \"\"\"Can someone of the given age and citizenship status run for president in the US?\"\"\"\n",
        "    # The US Constitution says you must be a natural born citizen *and* at least 35 years old\n",
        "    return is_natural_born_citizen and (age >= 35)\n",
        "\n",
        "print(can_run_for_president(19, True))\n",
        "print(can_run_for_president(55, False))\n",
        "print(can_run_for_president(55, True))"
      ],
      "metadata": {
        "colab": {
          "base_uri": "https://localhost:8080/"
        },
        "id": "E1Aouzu99REW",
        "outputId": "32b189e5-2034-4e71-e4e4-c9e568dac69e"
      },
      "execution_count": 6,
      "outputs": [
        {
          "output_type": "stream",
          "name": "stdout",
          "text": [
            "False\n",
            "False\n",
            "True\n"
          ]
        }
      ]
    },
    {
      "cell_type": "code",
      "source": [
        "True or True and False"
      ],
      "metadata": {
        "colab": {
          "base_uri": "https://localhost:8080/"
        },
        "id": "to4FY7hH9TRV",
        "outputId": "e7f3544f-edc4-48c2-c801-bff0a26aaabe"
      },
      "execution_count": 7,
      "outputs": [
        {
          "output_type": "execute_result",
          "data": {
            "text/plain": [
              "True"
            ]
          },
          "metadata": {},
          "execution_count": 7
        }
      ]
    },
    {
      "cell_type": "code",
      "source": [
        "def inspect(x):\n",
        "    if x == 0:\n",
        "        print(x, \"is zero\")\n",
        "    elif x > 0:\n",
        "        print(x, \"is positive\")\n",
        "    elif x < 0:\n",
        "        print(x, \"is negative\")\n",
        "    else:\n",
        "        print(x, \"is unlike anything I've ever seen...\")\n",
        "\n",
        "inspect(0)\n",
        "inspect(-15)"
      ],
      "metadata": {
        "colab": {
          "base_uri": "https://localhost:8080/"
        },
        "id": "5NbrLEtJ9WqF",
        "outputId": "2bf21969-75ef-40a2-ada4-a888566f9e06"
      },
      "execution_count": 10,
      "outputs": [
        {
          "output_type": "stream",
          "name": "stdout",
          "text": [
            "0 is zero\n",
            "-15 is negative\n"
          ]
        }
      ]
    },
    {
      "cell_type": "code",
      "source": [
        "def f(x):\n",
        "    if x > 0:\n",
        "        print(\"Only printed when x is positive; x =\", x)\n",
        "        print(\"Also only printed when x is positive; x =\", x)\n",
        "    print(\"Always printed, regardless of x's value; x =\", x)\n",
        "\n",
        "f(1)\n",
        "f(0)"
      ],
      "metadata": {
        "colab": {
          "base_uri": "https://localhost:8080/"
        },
        "id": "iRXM_e5X9f7W",
        "outputId": "552282b1-cb1b-49a2-b859-3c0c040c4bb2"
      },
      "execution_count": 11,
      "outputs": [
        {
          "output_type": "stream",
          "name": "stdout",
          "text": [
            "Only printed when x is positive; x = 1\n",
            "Also only printed when x is positive; x = 1\n",
            "Always printed, regardless of x's value; x = 1\n",
            "Always printed, regardless of x's value; x = 0\n"
          ]
        }
      ]
    },
    {
      "cell_type": "code",
      "source": [
        "print(bool(1)) # all numbers are treated as true, except 0\n",
        "print(bool(0))\n",
        "print(bool(\"asf\")) # all strings are treated as true, except the empty string \"\"\n",
        "print(bool(\"\"))\n",
        "# Generally empty sequences (strings, lists, and other types we've yet to see like lists and tuples)\n",
        "# are \"falsey\" and the rest are \"truthy\""
      ],
      "metadata": {
        "colab": {
          "base_uri": "https://localhost:8080/"
        },
        "id": "9CCmbojh9m9F",
        "outputId": "16695862-5482-43d1-dc6a-df40ef50464c"
      },
      "execution_count": 12,
      "outputs": [
        {
          "output_type": "stream",
          "name": "stdout",
          "text": [
            "True\n",
            "False\n",
            "True\n",
            "False\n"
          ]
        }
      ]
    },
    {
      "cell_type": "code",
      "source": [
        "if 0:\n",
        "    print(0)\n",
        "elif \"spam\":\n",
        "    print(\"spam\")"
      ],
      "metadata": {
        "colab": {
          "base_uri": "https://localhost:8080/"
        },
        "id": "mPuKe2lU9o_w",
        "outputId": "78e81355-60e8-4353-8246-30e1616ae199"
      },
      "execution_count": 13,
      "outputs": [
        {
          "output_type": "stream",
          "name": "stdout",
          "text": [
            "spam\n"
          ]
        }
      ]
    }
  ]
}