{
  "nbformat": 4,
  "nbformat_minor": 0,
  "metadata": {
    "colab": {
      "provenance": [],
      "authorship_tag": "ABX9TyNtrAfIfywdCkbG8F48zeRx",
      "include_colab_link": true
    },
    "kernelspec": {
      "name": "python3",
      "display_name": "Python 3"
    },
    "language_info": {
      "name": "python"
    }
  },
  "cells": [
    {
      "cell_type": "markdown",
      "metadata": {
        "id": "view-in-github",
        "colab_type": "text"
      },
      "source": [
        "<a href=\"https://colab.research.google.com/github/Auvarmf/PKCV/blob/main/PKCV_Loops_and_List_Comprehensions.ipynb\" target=\"_parent\"><img src=\"https://colab.research.google.com/assets/colab-badge.svg\" alt=\"Open In Colab\"/></a>"
      ]
    },
    {
      "cell_type": "code",
      "execution_count": 1,
      "metadata": {
        "colab": {
          "base_uri": "https://localhost:8080/"
        },
        "id": "t6kUn4G1FhBv",
        "outputId": "80b4296d-166a-4f5a-9d03-fc4bdba35f5d"
      },
      "outputs": [
        {
          "output_type": "stream",
          "name": "stdout",
          "text": [
            "Mercury Venus Earth Mars Jupiter Saturn Uranus Neptune "
          ]
        }
      ],
      "source": [
        "planets = ['Mercury', 'Venus', 'Earth', 'Mars', 'Jupiter', 'Saturn', 'Uranus', 'Neptune']\n",
        "for planet in planets:\n",
        "    print(planet, end=' ') # print all on same line"
      ]
    },
    {
      "cell_type": "code",
      "source": [
        "multiplicands = (2, 2, 2, 3, 3, 5)\n",
        "product = 1\n",
        "for mult in multiplicands:\n",
        "    product = product * mult\n",
        "product"
      ],
      "metadata": {
        "colab": {
          "base_uri": "https://localhost:8080/"
        },
        "id": "o0k-eEm9Fu8D",
        "outputId": "2e6ff710-0455-4921-905b-8781223473b3"
      },
      "execution_count": 2,
      "outputs": [
        {
          "output_type": "execute_result",
          "data": {
            "text/plain": [
              "360"
            ]
          },
          "metadata": {},
          "execution_count": 2
        }
      ]
    },
    {
      "cell_type": "code",
      "source": [
        "s = 'steganograpHy is the practicE of conceaLing a file, message, image, or video within another fiLe, message, image, Or video.'\n",
        "msg = ''\n",
        "# print all the uppercase letters in s, one at a time\n",
        "for char in s:\n",
        "    if char.isupper():\n",
        "        print(char, end='')"
      ],
      "metadata": {
        "colab": {
          "base_uri": "https://localhost:8080/"
        },
        "id": "J3yKSQrHFxAl",
        "outputId": "34c580cb-66c5-4d81-bd0a-80d59b0a4a7a"
      },
      "execution_count": 3,
      "outputs": [
        {
          "output_type": "stream",
          "name": "stdout",
          "text": [
            "HELLO"
          ]
        }
      ]
    },
    {
      "cell_type": "code",
      "source": [
        "for i in range(5):\n",
        "    print(\"Doing important work. i =\", i)"
      ],
      "metadata": {
        "colab": {
          "base_uri": "https://localhost:8080/"
        },
        "id": "WxqMBMesFzn_",
        "outputId": "fcf91701-694e-4a3c-f7ef-a0798673b0af"
      },
      "execution_count": 4,
      "outputs": [
        {
          "output_type": "stream",
          "name": "stdout",
          "text": [
            "Doing important work. i = 0\n",
            "Doing important work. i = 1\n",
            "Doing important work. i = 2\n",
            "Doing important work. i = 3\n",
            "Doing important work. i = 4\n"
          ]
        }
      ]
    },
    {
      "cell_type": "code",
      "source": [
        "i = 0\n",
        "while i < 10:\n",
        "    print(i, end=' ')\n",
        "    i += 1 # increase the value of i by 1"
      ],
      "metadata": {
        "colab": {
          "base_uri": "https://localhost:8080/"
        },
        "id": "iWUyKhgRF1fR",
        "outputId": "3a1299bd-74fd-48d5-a412-403484444c3a"
      },
      "execution_count": 5,
      "outputs": [
        {
          "output_type": "stream",
          "name": "stdout",
          "text": [
            "0 1 2 3 4 5 6 7 8 9 "
          ]
        }
      ]
    },
    {
      "cell_type": "code",
      "source": [
        "squares = [n**2 for n in range(10)]\n",
        "squares"
      ],
      "metadata": {
        "colab": {
          "base_uri": "https://localhost:8080/"
        },
        "id": "GM-zrYrWF3d7",
        "outputId": "46620d64-7c2d-4624-e6e8-681aea3f314a"
      },
      "execution_count": 6,
      "outputs": [
        {
          "output_type": "execute_result",
          "data": {
            "text/plain": [
              "[0, 1, 4, 9, 16, 25, 36, 49, 64, 81]"
            ]
          },
          "metadata": {},
          "execution_count": 6
        }
      ]
    },
    {
      "cell_type": "code",
      "source": [
        "squares = []\n",
        "for n in range(10):\n",
        "    squares.append(n**2)\n",
        "squares"
      ],
      "metadata": {
        "colab": {
          "base_uri": "https://localhost:8080/"
        },
        "id": "i0mEWTS7F5aj",
        "outputId": "93faf779-e847-4629-8b88-53a2bfd60d47"
      },
      "execution_count": 7,
      "outputs": [
        {
          "output_type": "execute_result",
          "data": {
            "text/plain": [
              "[0, 1, 4, 9, 16, 25, 36, 49, 64, 81]"
            ]
          },
          "metadata": {},
          "execution_count": 7
        }
      ]
    },
    {
      "cell_type": "code",
      "source": [
        "short_planets = [planet for planet in planets if len(planet) < 6]\n",
        "short_planets"
      ],
      "metadata": {
        "colab": {
          "base_uri": "https://localhost:8080/"
        },
        "id": "hyKSqHQKF7VL",
        "outputId": "7a727761-4baf-4313-c158-cab813444114"
      },
      "execution_count": 8,
      "outputs": [
        {
          "output_type": "execute_result",
          "data": {
            "text/plain": [
              "['Venus', 'Earth', 'Mars']"
            ]
          },
          "metadata": {},
          "execution_count": 8
        }
      ]
    },
    {
      "cell_type": "code",
      "source": [
        "# str.upper() returns an all-caps version of a string\n",
        "loud_short_planets = [planet.upper() + '!' for planet in planets if len(planet) < 6]\n",
        "loud_short_planets"
      ],
      "metadata": {
        "colab": {
          "base_uri": "https://localhost:8080/"
        },
        "id": "ynw5kc2IF9Av",
        "outputId": "a2f6af4e-15ae-41f4-824a-564127c85078"
      },
      "execution_count": 9,
      "outputs": [
        {
          "output_type": "execute_result",
          "data": {
            "text/plain": [
              "['VENUS!', 'EARTH!', 'MARS!']"
            ]
          },
          "metadata": {},
          "execution_count": 9
        }
      ]
    },
    {
      "cell_type": "code",
      "source": [
        "[\n",
        "    planet.upper() + '!'\n",
        "    for planet in planets\n",
        "    if len(planet) < 6\n",
        "]"
      ],
      "metadata": {
        "colab": {
          "base_uri": "https://localhost:8080/"
        },
        "id": "UqhDTkRWF-zv",
        "outputId": "2fecb5ef-469c-41e8-ae65-fcff2bf49ee5"
      },
      "execution_count": 10,
      "outputs": [
        {
          "output_type": "execute_result",
          "data": {
            "text/plain": [
              "['VENUS!', 'EARTH!', 'MARS!']"
            ]
          },
          "metadata": {},
          "execution_count": 10
        }
      ]
    },
    {
      "cell_type": "code",
      "source": [
        "[32 for planet in planets]"
      ],
      "metadata": {
        "colab": {
          "base_uri": "https://localhost:8080/"
        },
        "id": "yrP1msR4GAw1",
        "outputId": "d34d50ef-df97-4632-c5ea-3040cbefcf45"
      },
      "execution_count": 11,
      "outputs": [
        {
          "output_type": "execute_result",
          "data": {
            "text/plain": [
              "[32, 32, 32, 32, 32, 32, 32, 32]"
            ]
          },
          "metadata": {},
          "execution_count": 11
        }
      ]
    },
    {
      "cell_type": "code",
      "source": [
        "def count_negatives(nums):\n",
        "    \"\"\"Return the number of negative numbers in the given list.\n",
        "\n",
        "    >>> count_negatives([5, -1, -2, 0, 3])\n",
        "    2\n",
        "    \"\"\"\n",
        "    n_negative = 0\n",
        "    for num in nums:\n",
        "        if num < 0:\n",
        "            n_negative = n_negative + 1\n",
        "    return n_negative"
      ],
      "metadata": {
        "id": "QKA2ffBSGDOh"
      },
      "execution_count": 12,
      "outputs": []
    },
    {
      "cell_type": "code",
      "source": [
        "def count_negatives(nums):\n",
        "    return len([num for num in nums if num < 0])"
      ],
      "metadata": {
        "id": "ycMAu2guGFc1"
      },
      "execution_count": 13,
      "outputs": []
    },
    {
      "cell_type": "code",
      "source": [
        "def count_negatives(nums):\n",
        "    # Reminder: in the \"booleans and conditionals\" exercises, we learned about a quirk of\n",
        "    # Python where it calculates something like True + True + False + True to be equal to 3.\n",
        "    return sum([num < 0 for num in nums])"
      ],
      "metadata": {
        "id": "tJz8Y8GRGHU_"
      },
      "execution_count": 14,
      "outputs": []
    }
  ]
}